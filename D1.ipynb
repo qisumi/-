{
 "cells": [
  {
   "cell_type": "code",
   "execution_count": 1,
   "metadata": {},
   "outputs": [
    {
     "data": {
      "text/plain": [
       "0.5"
      ]
     },
     "execution_count": 1,
     "metadata": {},
     "output_type": "execute_result"
    }
   ],
   "source": [
    "# GPT-4\n",
    "def reciprocal_sqrt(x):\n",
    "    \"\"\"\n",
    "    Calculate the reciprocal of the square root of a given number.\n",
    "\n",
    "    Parameters:\n",
    "    x (float): The number to calculate the reciprocal square root for.\n",
    "\n",
    "    Returns:\n",
    "    float: The reciprocal of the square root of x.\n",
    "    \"\"\"\n",
    "    try:\n",
    "        # Calculate the reciprocal of the square root\n",
    "        result = 1 / (x ** 0.5)\n",
    "        return result\n",
    "    except Exception as e:\n",
    "        # Return the error message if an exception occurs\n",
    "        return str(e)\n",
    "\n",
    "\n",
    "# Test the function with a number\n",
    "reciprocal_sqrt(4.0)"
   ]
  },
  {
   "cell_type": "code",
   "execution_count": 1,
   "metadata": {},
   "outputs": [
    {
     "data": {
      "text/plain": [
       "0.5"
      ]
     },
     "execution_count": 1,
     "metadata": {},
     "output_type": "execute_result"
    }
   ],
   "source": [
    "# GPT-3.5\n",
    "import math\n",
    "\n",
    "\n",
    "def square_root_reciprocal(number):\n",
    "    if number == 0:\n",
    "        return float('inf')  # 返回正无穷大表示平方根倒数\n",
    "    elif number < 0:\n",
    "        return None  # 返回None表示负数没有平方根倒数\n",
    "    else:\n",
    "        return 1 / math.sqrt(number)"
   ]
  },
  {
   "cell_type": "code",
   "execution_count": null,
   "metadata": {},
   "outputs": [],
   "source": [
    "# Github Copilot\n",
    "import math\n",
    "\n",
    "\n",
    "def reciprocal_sqrt(n):\n",
    "    try:\n",
    "        return 1 / math.sqrt(n)\n",
    "    except ZeroDivisionError:\n",
    "        return 'Error: Division by zero'\n",
    "    except ValueError:\n",
    "        return 'Error: Negative number'"
   ]
  },
  {
   "cell_type": "code",
   "execution_count": null,
   "metadata": {},
   "outputs": [],
   "source": [
    "# 文心一言\n",
    "def inverse_square_root(num):\n",
    "    return 1.0 / (num ** 0.5)"
   ]
  }
 ],
 "metadata": {
  "kernelspec": {
   "display_name": "Python 3",
   "language": "python",
   "name": "python3"
  },
  "language_info": {
   "codemirror_mode": {
    "name": "ipython",
    "version": 3
   },
   "file_extension": ".py",
   "mimetype": "text/x-python",
   "name": "python",
   "nbconvert_exporter": "python",
   "pygments_lexer": "ipython3",
   "version": "3.10.11"
  }
 },
 "nbformat": 4,
 "nbformat_minor": 2
}
