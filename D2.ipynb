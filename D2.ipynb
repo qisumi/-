{
 "cells": [
  {
   "cell_type": "code",
   "execution_count": null,
   "metadata": {},
   "outputs": [],
   "source": [
    "# GPT-4\n",
    "import struct\n",
    "\n",
    "\n",
    "def fast_inverse_sqrt(number):\n",
    "    \"\"\"\n",
    "    Calculate an approximation to the reciprocal square root of the number.\n",
    "    Uses the fast inverse square root method from Quake III Arena.\n",
    "    \n",
    "    Parameters:\n",
    "    number (float): The number to calculate the reciprocal square root for.\n",
    "    \n",
    "    Returns:\n",
    "    float: An approximation to the reciprocal of the square root of number.\n",
    "    \"\"\"\n",
    "    threehalfs = 1.5\n",
    "\n",
    "    x2 = number * 0.5\n",
    "    y = number\n",
    "\n",
    "    # Convert the floating point number to a 32-bit integer\n",
    "    packed_y = struct.pack('f', y)\n",
    "    i = struct.unpack('i', packed_y)[0]\n",
    "\n",
    "    # Magic number for the fast inverse square root\n",
    "    i = 0x5f3759df - (i >> 1)\n",
    "\n",
    "    # Convert the 32-bit integer back to a float\n",
    "    packed_i = struct.pack('i', i)\n",
    "    y = struct.unpack('f', packed_i)[0]\n",
    "\n",
    "    # One iteration of Newton's method to improve the approximation\n",
    "    y = y * (threehalfs - (x2 * y * y))\n",
    "\n",
    "    return y\n",
    "\n",
    "\n",
    "# Test the function with a number\n",
    "fast_inverse_sqrt(4.0)"
   ]
  },
  {
   "cell_type": "code",
   "execution_count": null,
   "metadata": {},
   "outputs": [],
   "source": [
    "# GPT-3.5\n",
    "def square_root_reciprocal_approximation(number, max_iterations=1000, tolerance=1e-10):\n",
    "    if number == 0:\n",
    "        return float('inf')\n",
    "    elif number < 0:\n",
    "        return None\n",
    "\n",
    "    x = 1.0  # 初始猜测值\n",
    "\n",
    "    for _ in range(max_iterations):\n",
    "        x_next = 0.5 * (x + number / x)  # 牛顿法迭代公式\n",
    "\n",
    "        if abs(x_next - x) < tolerance:\n",
    "            return 1 / x_next\n",
    "\n",
    "        x = x_next\n",
    "\n",
    "    return 1 / x\n",
    "\n",
    "\n",
    "# 使用示例\n",
    "input_number = 4.0\n",
    "result = square_root_reciprocal_approximation(input_number)\n",
    "print(f\"平方根倒数的近似值为: {result}\")"
   ]
  },
  {
   "cell_type": "code",
   "execution_count": null,
   "metadata": {},
   "outputs": [],
   "source": [
    "# Github Copilot\n",
    "def reciprocal_sqrt_newton(n, iterations=5):\n",
    "    try:\n",
    "        x = 1.0\n",
    "        for _ in range(iterations):\n",
    "            x = x * (1.5 - 0.5 * n * x * x)\n",
    "        return x\n",
    "    except ZeroDivisionError:\n",
    "        return 'Error: Division by zero'\n",
    "    except ValueError:\n",
    "        return 'Error: Negative number'"
   ]
  },
  {
   "cell_type": "code",
   "execution_count": null,
   "metadata": {},
   "outputs": [],
   "source": [
    "# 文心一言\n",
    "def inverse_square_root_approx(num, eps=1e-6):\n",
    "    guess = num / 2.0\n",
    "    while abs(guess * guess - num) > eps:\n",
    "        guess = (guess + num / guess) / 2.0\n",
    "    return guess"
   ]
  }
 ],
 "metadata": {
  "language_info": {
   "name": "python"
  }
 },
 "nbformat": 4,
 "nbformat_minor": 2
}
